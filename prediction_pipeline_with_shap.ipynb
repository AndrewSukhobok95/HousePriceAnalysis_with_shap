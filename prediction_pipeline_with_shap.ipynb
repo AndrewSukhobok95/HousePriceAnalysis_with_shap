{
 "cells": [
  {
   "cell_type": "code",
   "execution_count": 1,
   "metadata": {},
   "outputs": [],
   "source": [
    "import numpy as np\n",
    "import pandas as pd\n",
    "import xgboost as xgb\n",
    "from xgboost import XGBRegressor\n",
    "import pickle\n",
    "import json\n",
    "from datetime import datetime\n",
    "\n",
    "from data_prep.corrections import correct_macro_df, correct_flats_info_df\n",
    "from data_prep.custom_data_creating import add_dates_info, prepare_choosed_features, \\\n",
    "    manual_processing, create_custom_columns\n",
    "from pred_utils.pred_utils import rmsle_exp, cross_val_split\n",
    "from configs.columns import flats_param_columns, custom_flats_param_columns"
   ]
  },
  {
   "cell_type": "code",
   "execution_count": null,
   "metadata": {},
   "outputs": [],
   "source": []
  }
 ],
 "metadata": {
  "kernelspec": {
   "display_name": "Python 3",
   "language": "python",
   "name": "python3"
  },
  "language_info": {
   "codemirror_mode": {
    "name": "ipython",
    "version": 3
   },
   "file_extension": ".py",
   "mimetype": "text/x-python",
   "name": "python",
   "nbconvert_exporter": "python",
   "pygments_lexer": "ipython3",
   "version": "3.6.6"
  }
 },
 "nbformat": 4,
 "nbformat_minor": 2
}
